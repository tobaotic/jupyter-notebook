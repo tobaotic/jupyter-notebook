{
 "cells": [
  {
   "cell_type": "code",
   "execution_count": 1,
   "metadata": {},
   "outputs": [],
   "source": [
    "\n",
    "import cv2\n",
    "import numpy as np\n",
    "\n",
    "from datetime import datetime, timedelta\n",
    "\n",
    "from skimage.measure import compare_ssim\n"
   ]
  },
  {
   "cell_type": "code",
   "execution_count": 2,
   "metadata": {},
   "outputs": [
    {
     "name": "stdout",
     "output_type": "stream",
     "text": [
      "Number of frames: 1920\n",
      "Video width x height: 640 x 480\n",
      "Frames per second (FPS): 29\n"
     ]
    }
   ],
   "source": [
    "\n",
    "cap = cv2.VideoCapture('../videos/scenes-01.mp4')\n",
    "\n",
    "#\n",
    "#    Flags for video I/O\n",
    "#    https://docs.opencv.org/3.4/d4/d15/group__videoio__flags__base.html\n",
    "#\n",
    "\n",
    "frame_count = int(cap.get(cv2.CAP_PROP_FRAME_COUNT))\n",
    "frame_width = int(cap.get(cv2.CAP_PROP_FRAME_WIDTH))\n",
    "frame_height = int(cap.get(cv2.CAP_PROP_FRAME_HEIGHT))\n",
    "fps = int(cap.get(cv2.CAP_PROP_FPS))\n",
    "\n",
    "\n",
    "print( 'Number of frames: %s' %  frame_count)\n",
    "print( 'Video width x height: %s x %s' %  (frame_width, frame_height))\n",
    "print( 'Frames per second (FPS): %s' %  fps)\n"
   ]
  },
  {
   "cell_type": "code",
   "execution_count": 3,
   "metadata": {},
   "outputs": [],
   "source": [
    "\n",
    "def time_elapsed(millisec):\n",
    "\n",
    "    time = str(timedelta(milliseconds=(millisec)))\n",
    "    \n",
    "    return time\n"
   ]
  },
  {
   "cell_type": "code",
   "execution_count": 4,
   "metadata": {},
   "outputs": [],
   "source": [
    "\n",
    "# SPEED UP TEST SHOW\n",
    "\n",
    "scale_movie = 10\n",
    "\n",
    "small_width = int(frame_width/scale_movie)\n",
    "small_height = int(frame_height/scale_movie)\n",
    "\n",
    "frames_to_jump = 14\n",
    "\n",
    "save_output = False\n",
    "\n",
    "diff_treshold = 0.65\n"
   ]
  },
  {
   "cell_type": "code",
   "execution_count": 6,
   "metadata": {},
   "outputs": [
    {
     "name": "stdout",
     "output_type": "stream",
     "text": [
      "New scene @frame :: @time -> 182 :: 0:00:06.102000\n",
      "New scene @frame :: @time -> 308 :: 0:00:10.304000\n",
      "New scene @frame :: @time -> 462 :: 0:00:15.440000\n",
      "New scene @frame :: @time -> 966 :: 0:00:32.248000\n",
      "New scene @frame :: @time -> 1330 :: 0:00:44.387000\n",
      "\n",
      "Total number of frames: 1920\n",
      "Frames examined: 138\n",
      "Number of scenes: 6\n"
     ]
    }
   ],
   "source": [
    "\n",
    "\n",
    "prev_frame = []\n",
    "\n",
    "scene_counter = 1 \n",
    "frames_examined = 0\n",
    "frames_counter = 0\n",
    "\n",
    "ret = True\n",
    "\n",
    "if save_output:\n",
    "    # Define the codec and create VideoWriter object\n",
    "    fourcc = cv2.VideoWriter_fourcc(*'XVID')\n",
    "    out = cv2.VideoWriter('../videos/all-scenes-01.avi', fourcc, fps, (frame_width, frame_height))\n",
    "\n",
    "while(ret):\n",
    "\n",
    "    ret, frame = cap.read()\n",
    "\n",
    "    if type(frame) is np.ndarray:\n",
    "    \n",
    "        if (frames_counter % frames_to_jump == 0): \n",
    "        \n",
    "            gray = cv2.cvtColor(frame, cv2.COLOR_BGR2GRAY)\n",
    "\n",
    "            curr_frame = cv2.resize(gray, (small_width, small_height))\n",
    "\n",
    "            if type(prev_frame) is np.ndarray:\n",
    "                score = compare_ssim(prev_frame, curr_frame)\n",
    "\n",
    "                if score < diff_treshold:\n",
    "                    scene_counter = scene_counter + 1 \n",
    "                    millisec = int(cap.get(cv2.CAP_PROP_POS_MSEC ))\n",
    "\n",
    "                    print('New scene @frame :: @time -> %s :: %s' % (frames_counter, time_elapsed(millisec)))\n",
    "\n",
    "            prev_frame = curr_frame\n",
    "        \n",
    "            frames_examined = frames_examined + 1\n",
    "\n",
    "        frames_counter = frames_counter + 1\n",
    "        \n",
    "        cv2.putText(frame, 'Scene: #' + str(scene_counter), (40, 40), cv2.FONT_HERSHEY_SIMPLEX, 1, (255,255,255), 2)    \n",
    "        \n",
    "        if save_output:\n",
    "            out.write(frame)\n",
    "    \n",
    "cap.release()\n",
    "\n",
    "if save_output:\n",
    "    out.release()\n",
    "\n",
    "print('')\n",
    "print('Total number of frames: %s' % frames_counter)\n",
    "print('Frames examined: %s' % frames_examined)\n",
    "print('Number of scenes: %s' % scene_counter)\n"
   ]
  },
  {
   "cell_type": "code",
   "execution_count": null,
   "metadata": {},
   "outputs": [],
   "source": []
  }
 ],
 "metadata": {
  "kernelspec": {
   "display_name": "Python 3",
   "language": "python",
   "name": "python3"
  },
  "language_info": {
   "codemirror_mode": {
    "name": "ipython",
    "version": 3
   },
   "file_extension": ".py",
   "mimetype": "text/x-python",
   "name": "python",
   "nbconvert_exporter": "python",
   "pygments_lexer": "ipython3",
   "version": "3.6.4"
  }
 },
 "nbformat": 4,
 "nbformat_minor": 2
}
