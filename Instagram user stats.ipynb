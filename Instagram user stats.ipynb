{
 "cells": [
  {
   "cell_type": "markdown",
   "metadata": {},
   "source": [
    "# Instagram’s Public JSON APIs\n",
    "**Just by adding ‘?__a=1’ at end**\n",
    "\n",
    "<font color=green>https://www.instagram.com/_USER_NAME_/?__a=1</font>"
   ]
  },
  {
   "cell_type": "code",
   "execution_count": 1,
   "metadata": {},
   "outputs": [],
   "source": [
    "import requests\n",
    "import json\n",
    "import datetime\n",
    "import pandas as pd\n",
    "import matplotlib.pyplot as plt\n",
    "\n",
    "\n",
    "userName = '__INSERT_INSTAGRAM__USERNAME__'\n",
    "jsonData = json.loads(requests.get(\"https://www.instagram.com/%s?__a=1\" % userName).text)\n",
    "numOfMedia = len(jsonData['graphql']['user']['edge_owner_to_timeline_media']['edges'])"
   ]
  },
  {
   "cell_type": "code",
   "execution_count": 2,
   "metadata": {
    "scrolled": true
   },
   "outputs": [
    {
     "data": {
      "image/png": "[encoded data removed]",
      "text/plain": [
       "<Figure size 432x288 with 1 Axes>"
      ]
     },
     "metadata": {},
     "output_type": "display_data"
    }
   ],
   "source": [
    "#read instagram user published images from this JSON string\n",
    "medias = jsonData['graphql']['user']['edge_owner_to_timeline_media']['edges']\n",
    "\n",
    "publishMedia = []\n",
    "\n",
    "for mediaNode in medias:\n",
    "    #convert UNIX timestamp into date and hour\n",
    "    publishDate = datetime.datetime.fromtimestamp(int(mediaNode['node']['taken_at_timestamp'])).strftime('%Y-%m-%d')\n",
    "    publishHour = datetime.datetime.fromtimestamp(int(mediaNode['node']['taken_at_timestamp'])).strftime('%H')\n",
    "    #number of likes for each picture\n",
    "    edgeLikes = int(mediaNode['node']['edge_liked_by']['count'])\n",
    "    publishMedia.append((publishDate, publishHour, edgeLikes))\n",
    "    \n",
    "#convert to dataFrame    \n",
    "df = pd.DataFrame(publishMedia, columns = ['publishDate', 'publishHour', 'edgeLikes'])\n",
    "#group dataset by date and count\n",
    "gd = df.groupby(df.publishDate).size().reset_index(name='counts')\n",
    "\n",
    "#DataIndeRange with all dates from dataset min to max date\n",
    "days = pd.date_range(df.publishDate.min(), df.publishDate.max(), name='publishDate').strftime('%Y-%m-%d') \n",
    "dDates = pd.DataFrame(days, columns = ['publishDate'])\n",
    "\n",
    "#merge two dataFrame\n",
    "result = dDates.merge(gd, how='outer')\n",
    "\n",
    "#plot result i horizontal graph\n",
    "plt.barh(result.publishDate, result.counts)\n",
    "plt.title('Number of posts per day')\n",
    "plt.show()\n",
    "\n"
   ]
  },
  {
   "cell_type": "code",
   "execution_count": 3,
   "metadata": {},
   "outputs": [
    {
     "data": {
      "image/png": "[encoded data removed]",
      "text/plain": [
       "<Figure size 432x288 with 1 Axes>"
      ]
     },
     "metadata": {},
     "output_type": "display_data"
    }
   ],
   "source": [
    "#group dataset by hour and count\n",
    "pHour = df.groupby(df.publishHour).size().reset_index(name='counts')\n",
    "\n",
    "#List hours from 0 to 23\n",
    "hours = [(datetime.time(i).strftime('%H')) for i in range(24)]\n",
    "dHours = pd.DataFrame(hours, columns = ['publishHour'])\n",
    "\n",
    "#merge two dataFrames\n",
    "plotHourData = dHours.merge(pHour, how='outer')\n",
    "\n",
    "plt.bar(plotHourData.publishHour, plotHourData.counts)\n",
    "plt.title('Number of posts per hour')\n",
    "plt.show()"
   ]
  },
  {
   "cell_type": "code",
   "execution_count": 4,
   "metadata": {},
   "outputs": [
    {
     "data": {
      "image/png": "[encoded data removed]",
      "text/plain": [
       "<Figure size 432x288 with 1 Axes>"
      ]
     },
     "metadata": {},
     "output_type": "display_data"
    }
   ],
   "source": [
    "#select only likes and hours from main dataFrame\n",
    "partData = df.iloc[:,[1,2]]\n",
    "pLikes = df.groupby([partData.publishHour]).sum().reset_index()\n",
    "\n",
    "#merge hours with sum of likes\n",
    "plotLikesData = dHours.merge(pLikes, how='outer')\n",
    "\n",
    "plt.bar(plotLikesData.publishHour, plotLikesData.edgeLikes)\n",
    "plt.title('Number of likes per hour')\n",
    "plt.show()"
   ]
  },
  {
   "cell_type": "code",
   "execution_count": 5,
   "metadata": {},
   "outputs": [
    {
     "name": "stdout",
     "output_type": "stream",
     "text": [
      "Severina Kojic\n",
      "Followed by: 747189 \n",
      "Publish frequency per day : 0.50\n",
      "Likes Percentile(75) : 29215.75\n",
      "Likes Mean : 24289.92\n",
      "Likes Min : 8563 :: Engagement 1.15\n",
      "Likes Max : 46599\n"
     ]
    }
   ],
   "source": [
    "#more general stats from instagram user\n",
    "userName = jsonData['graphql']['user']['full_name']\n",
    "folowedBy = jsonData['graphql']['user']['edge_followed_by']['count']\n",
    "\n",
    "print(userName)\n",
    "print('Followed by: %s ' % folowedBy)\n",
    "\n",
    "publishDayDiff = (pd.to_datetime(df.publishDate).max() - pd.to_datetime(df.publishDate).min()).days + 1\n",
    "pubFreq = numOfMedia/publishDayDiff\n",
    "print('Publish frequency per day : %.2f' % pubFreq) \n",
    "\n",
    "print('Likes Percentile(75) : %.2f' % df.edgeLikes.quantile(.75))\n",
    "print('Likes Mean : %.2f' % df.edgeLikes.mean())\n",
    "print('Likes Min : %s :: Engagement %.2f' % (df.edgeLikes.min(), (df.edgeLikes.min()/int(folowedBy))*100))\n",
    "print('Likes Max : %s' % df.edgeLikes.max())\n",
    "\n"
   ]
  },
  {
   "cell_type": "code",
   "execution_count": null,
   "metadata": {},
   "outputs": [],
   "source": []
  }
 ],
 "metadata": {
  "kernelspec": {
   "display_name": "Python 3",
   "language": "python",
   "name": "python3"
  },
  "language_info": {
   "codemirror_mode": {
    "name": "ipython",
    "version": 3
   },
   "file_extension": ".py",
   "mimetype": "text/x-python",
   "name": "python",
   "nbconvert_exporter": "python",
   "pygments_lexer": "ipython3",
   "version": "3.6.4"
  }
 },
 "nbformat": 4,
 "nbformat_minor": 2
}
